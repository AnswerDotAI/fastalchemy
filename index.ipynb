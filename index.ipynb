{
 "cells": [
  {
   "cell_type": "code",
   "execution_count": null,
   "metadata": {},
   "outputs": [],
   "source": [
    "#| hide\n",
    "from fastsql.core import *\n",
    "from nbdev.showdoc import show_doc"
   ]
  },
  {
   "cell_type": "markdown",
   "metadata": {},
   "source": [
    "# fastsql\n",
    "\n",
    "> A MiniDataAPI spec implementation for SQLAlchemy V2"
   ]
  },
  {
   "cell_type": "markdown",
   "metadata": {},
   "source": [
    "## Install"
   ]
  },
  {
   "cell_type": "markdown",
   "metadata": {},
   "source": [
    "```sh\n",
    "pip install fastsql\n",
    "```"
   ]
  },
  {
   "cell_type": "markdown",
   "metadata": {},
   "source": [
    "## Creating a table"
   ]
  },
  {
   "cell_type": "code",
   "execution_count": null,
   "metadata": {},
   "outputs": [],
   "source": [
    "from fastsql import *\n",
    "import sqlalchemy as sa"
   ]
  },
  {
   "cell_type": "markdown",
   "metadata": {},
   "source": [
    "First we instantiate our database using FastSQL's Database class:"
   ]
  },
  {
   "cell_type": "code",
   "execution_count": null,
   "metadata": {},
   "outputs": [],
   "source": [
    "db = Database(\"sqlite:///:memory:\")"
   ]
  },
  {
   "cell_type": "markdown",
   "metadata": {},
   "source": [
    "The main table object in FastSQL is `DBTable`, which you can create by calling `DBTable(table)` with a SQLAlchemy `Table` object, or by calling `Database.create(cls)` with a class (optionally a dataclass). We'll demonstrate the latter with these classes:"
   ]
  },
  {
   "cell_type": "code",
   "execution_count": null,
   "metadata": {},
   "outputs": [],
   "source": [
    "class User: name:str; pwd:str\n",
    "class Todo: title:str; name:str; id:int=None; done:bool=False; details:str=''"
   ]
  },
  {
   "cell_type": "markdown",
   "metadata": {},
   "source": [
    "Equipped with our schemas, let's turn them into database tables."
   ]
  },
  {
   "cell_type": "code",
   "execution_count": null,
   "metadata": {},
   "outputs": [],
   "source": [
    "users = db.create(User, pk='name')\n",
    "todos = db.create(Todo, pk='id')"
   ]
  },
  {
   "cell_type": "markdown",
   "metadata": {},
   "source": [
    "Let's confirm the table design:"
   ]
  },
  {
   "cell_type": "code",
   "execution_count": null,
   "metadata": {},
   "outputs": [
    {
     "name": "stdout",
     "output_type": "stream",
     "text": [
      "Table: todo\n",
      "  - title: VARCHAR\n",
      "  - name: VARCHAR\n",
      "  * id: INTEGER\n",
      "  - done: BOOLEAN\n",
      "  - details: VARCHAR\n",
      "Table: user\n",
      "  * name: VARCHAR\n",
      "  - pwd: VARCHAR\n"
     ]
    }
   ],
   "source": [
    "db.print_schema()"
   ]
  },
  {
   "cell_type": "markdown",
   "metadata": {},
   "source": [
    "We can check if a table exists:"
   ]
  },
  {
   "cell_type": "code",
   "execution_count": null,
   "metadata": {},
   "outputs": [
    {
     "data": {
      "text/plain": [
       "True"
      ]
     },
     "execution_count": null,
     "metadata": {},
     "output_type": "execute_result"
    }
   ],
   "source": [
    "users.exists()"
   ]
  },
  {
   "cell_type": "markdown",
   "metadata": {},
   "source": [
    "## Using FastSQL"
   ]
  },
  {
   "cell_type": "markdown",
   "metadata": {},
   "source": [
    "Let's create some dataclass objects representing users and todos."
   ]
  },
  {
   "cell_type": "code",
   "execution_count": null,
   "metadata": {},
   "outputs": [],
   "source": [
    "u0 = User('jph','foo')\n",
    "u1 = User('rlt','bar')\n",
    "t0 = Todo('do it', 'jph')\n",
    "t1 = Todo('build it', 'jph')\n",
    "t2 = Todo('write book', 'rlt')"
   ]
  },
  {
   "cell_type": "markdown",
   "metadata": {},
   "source": [
    "Let's convert these dataclass objects into database records. To do that we insert them into their tables using the aply named `insert` method:"
   ]
  },
  {
   "cell_type": "code",
   "execution_count": null,
   "metadata": {},
   "outputs": [
    {
     "data": {
      "text/plain": [
       "Todo(title='write book', name='rlt', id=3, done=False, details='')"
      ]
     },
     "execution_count": null,
     "metadata": {},
     "output_type": "execute_result"
    }
   ],
   "source": [
    "users.insert(u0)\n",
    "users.insert(u1)\n",
    "todos.insert(t0)\n",
    "todos.insert(t1)\n",
    "todos.insert(t2)"
   ]
  },
  {
   "cell_type": "markdown",
   "metadata": {},
   "source": [
    "To query a single table, call the table like a function (which is implemented in Python using the special `__call__` method."
   ]
  },
  {
   "cell_type": "code",
   "execution_count": null,
   "metadata": {},
   "outputs": [
    {
     "data": {
      "text/markdown": [
       "---\n",
       "\n",
       "[source](https://github.com/fastai/fastsql/blob/main/fastsql/core.py#LNone){target=\"_blank\" style=\"float:right; font-size:smaller\"}\n",
       "\n",
       "### DBTable.__call__\n",
       "\n",
       ">      DBTable.__call__ (where:str|None=None,\n",
       ">                        where_args:Union[Iterable,dict,NoneType]=None,\n",
       ">                        order_by:str|None=None, limit:int|None=None,\n",
       ">                        offset:int|None=None, select:str='*', **kw)\n",
       "\n",
       "*Result of `select` query on the table*\n",
       "\n",
       "|    | **Type** | **Default** | **Details** |\n",
       "| -- | -------- | ----------- | ----------- |\n",
       "| where | str \\| None | None | SQL where fragment to use, for example `id > ?` |\n",
       "| where_args | Union | None | Parameters to use with `where`; iterable for `id>?`, or dict for `id>:id` |\n",
       "| order_by | str \\| None | None | Column or fragment of SQL to order by |\n",
       "| limit | int \\| None | None | Number of rows to limit to |\n",
       "| offset | int \\| None | None | SQL offset |\n",
       "| select | str | * | Comma-separated list of columns to select |\n",
       "| kw |  |  |  |\n",
       "| **Returns** | **list** |  | **Combined with `where_args`** |"
      ],
      "text/plain": [
       "---\n",
       "\n",
       "[source](https://github.com/fastai/fastsql/blob/main/fastsql/core.py#LNone){target=\"_blank\" style=\"float:right; font-size:smaller\"}\n",
       "\n",
       "### DBTable.__call__\n",
       "\n",
       ">      DBTable.__call__ (where:str|None=None,\n",
       ">                        where_args:Union[Iterable,dict,NoneType]=None,\n",
       ">                        order_by:str|None=None, limit:int|None=None,\n",
       ">                        offset:int|None=None, select:str='*', **kw)\n",
       "\n",
       "*Result of `select` query on the table*\n",
       "\n",
       "|    | **Type** | **Default** | **Details** |\n",
       "| -- | -------- | ----------- | ----------- |\n",
       "| where | str \\| None | None | SQL where fragment to use, for example `id > ?` |\n",
       "| where_args | Union | None | Parameters to use with `where`; iterable for `id>?`, or dict for `id>:id` |\n",
       "| order_by | str \\| None | None | Column or fragment of SQL to order by |\n",
       "| limit | int \\| None | None | Number of rows to limit to |\n",
       "| offset | int \\| None | None | SQL offset |\n",
       "| select | str | * | Comma-separated list of columns to select |\n",
       "| kw |  |  |  |\n",
       "| **Returns** | **list** |  | **Combined with `where_args`** |"
      ]
     },
     "execution_count": null,
     "metadata": {},
     "output_type": "execute_result"
    }
   ],
   "source": [
    "show_doc(DBTable.__call__)"
   ]
  },
  {
   "cell_type": "code",
   "execution_count": null,
   "metadata": {},
   "outputs": [
    {
     "data": {
      "text/plain": [
       "[User(name='jph', pwd='foo'), User(name='rlt', pwd='bar')]"
      ]
     },
     "execution_count": null,
     "metadata": {},
     "output_type": "execute_result"
    }
   ],
   "source": [
    "users()"
   ]
  },
  {
   "cell_type": "markdown",
   "metadata": {},
   "source": [
    "Use where statement to filter records, in this case only jph's todos."
   ]
  },
  {
   "cell_type": "code",
   "execution_count": null,
   "metadata": {},
   "outputs": [
    {
     "data": {
      "text/plain": [
       "[Todo(title='do it', name='jph', id=1, done=False, details=''),\n",
       " Todo(title='build it', name='jph', id=2, done=False, details='')]"
      ]
     },
     "execution_count": null,
     "metadata": {},
     "output_type": "execute_result"
    }
   ],
   "source": [
    "todos(where=\"name = :name\", name=\"jph\")"
   ]
  },
  {
   "cell_type": "markdown",
   "metadata": {},
   "source": [
    "Look only for those records with the word `it` in it."
   ]
  },
  {
   "cell_type": "code",
   "execution_count": null,
   "metadata": {},
   "outputs": [
    {
     "data": {
      "text/plain": [
       "[Todo(title='do it', name='jph', id=1, done=False, details=''),\n",
       " Todo(title='build it', name='jph', id=2, done=False, details='')]"
      ]
     },
     "execution_count": null,
     "metadata": {},
     "output_type": "execute_result"
    }
   ],
   "source": [
    "todos(where=\"title LIKE :title\", title=\"%% it%%\")"
   ]
  },
  {
   "cell_type": "markdown",
   "metadata": {},
   "source": [
    "You can also fetch a record just by the primary key by using `[]` with the table:"
   ]
  },
  {
   "cell_type": "code",
   "execution_count": null,
   "metadata": {},
   "outputs": [
    {
     "data": {
      "text/plain": [
       "User(name='rlt', pwd='bar')"
      ]
     },
     "execution_count": null,
     "metadata": {},
     "output_type": "execute_result"
    }
   ],
   "source": [
    "user = users['rlt']\n",
    "user"
   ]
  },
  {
   "cell_type": "markdown",
   "metadata": {},
   "source": [
    "Change a value in a record by updating an object, and passing the updated object to `update()`:"
   ]
  },
  {
   "cell_type": "code",
   "execution_count": null,
   "metadata": {},
   "outputs": [
    {
     "data": {
      "text/plain": [
       "User(name='rlt', pwd='baz')"
      ]
     },
     "execution_count": null,
     "metadata": {},
     "output_type": "execute_result"
    }
   ],
   "source": [
    "user.pwd = 'baz'\n",
    "users.update(user)\n",
    "users['rlt']"
   ]
  },
  {
   "cell_type": "markdown",
   "metadata": {},
   "source": [
    "## Using SQLAlchemy"
   ]
  },
  {
   "cell_type": "code",
   "execution_count": null,
   "metadata": {},
   "outputs": [],
   "source": [
    "ut,uc = users.t\n",
    "tt,tc = todos.t"
   ]
  },
  {
   "cell_type": "code",
   "execution_count": null,
   "metadata": {},
   "outputs": [],
   "source": [
    "query = sa.select(uc.name, uc.pwd, tc.title).select_from(\n",
    "    tt.join(ut, tc.name == uc.name))\n",
    "list(db.execute(query))"
   ]
  },
  {
   "cell_type": "code",
   "execution_count": null,
   "metadata": {},
   "outputs": [],
   "source": [
    "dbm = db.meta"
   ]
  },
  {
   "cell_type": "code",
   "execution_count": null,
   "metadata": {},
   "outputs": [],
   "source": []
  }
 ],
 "metadata": {
  "kernelspec": {
   "display_name": "python3",
   "language": "python",
   "name": "python3"
  }
 },
 "nbformat": 4,
 "nbformat_minor": 4
}
