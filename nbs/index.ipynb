{
 "cells": [
  {
   "cell_type": "code",
   "execution_count": null,
   "metadata": {},
   "outputs": [],
   "source": [
    "#| hide\n",
    "from fastalchemy.core import *"
   ]
  },
  {
   "cell_type": "markdown",
   "metadata": {},
   "source": [
    "# fastalchemy\n",
    "\n",
    "> A MiniDataAPI spec implementation for SQLAlchemy V2"
   ]
  },
  {
   "cell_type": "markdown",
   "metadata": {},
   "source": [
    "## Install"
   ]
  },
  {
   "cell_type": "markdown",
   "metadata": {},
   "source": [
    "```sh\n",
    "pip install fastalchemy\n",
    "```"
   ]
  },
  {
   "cell_type": "markdown",
   "metadata": {},
   "source": [
    "## How to use"
   ]
  },
  {
   "cell_type": "code",
   "execution_count": null,
   "metadata": {},
   "outputs": [],
   "source": [
    "from fastalchemy import *\n",
    "from dataclasses import dataclass"
   ]
  },
  {
   "cell_type": "markdown",
   "metadata": {},
   "source": [
    "First we instantiate our database using FastAlchemy's Database class:"
   ]
  },
  {
   "cell_type": "code",
   "execution_count": null,
   "metadata": {},
   "outputs": [],
   "source": [
    "db = Database(\"sqlite:///:memory:\")"
   ]
  },
  {
   "cell_type": "markdown",
   "metadata": {},
   "source": [
    "We demonstrate fastalchemy's features here using dataclasses-as-schema inspired by FastHTML's [adv_app example](https://github.com/AnswerDotAI/fasthtml/blob/main/examples/adv_app.py). "
   ]
  },
  {
   "cell_type": "code",
   "execution_count": null,
   "metadata": {},
   "outputs": [],
   "source": [
    "@dataclass\n",
    "class User:\n",
    "    name:str\n",
    "    pwd:str\n",
    "\n",
    "@dataclass\n",
    "class Todo:\n",
    "    title:str\n",
    "    name:str\n",
    "    done:bool=False\n",
    "    details:str=''\n",
    "    id:int=None"
   ]
  },
  {
   "cell_type": "markdown",
   "metadata": {},
   "source": [
    "Equipped with our schemas, let's turn them into database tables."
   ]
  },
  {
   "cell_type": "code",
   "execution_count": null,
   "metadata": {},
   "outputs": [],
   "source": [
    "users = db.create(User, pk='name')\n",
    "todos = db.create(Todo, pk='id')"
   ]
  },
  {
   "cell_type": "markdown",
   "metadata": {},
   "source": [
    "Let's confirm the table design."
   ]
  },
  {
   "cell_type": "code",
   "execution_count": null,
   "metadata": {},
   "outputs": [
    {
     "name": "stdout",
     "output_type": "stream",
     "text": [
      "Table: Todo\n",
      "  - *id: INTEGER\n",
      "  - title: VARCHAR\n",
      "  - name: VARCHAR\n",
      "  - done: BOOLEAN\n",
      "  - details: VARCHAR\n",
      "Table: User\n",
      "  - *name: VARCHAR\n",
      "  - pwd: VARCHAR\n"
     ]
    }
   ],
   "source": [
    "db.print_schema()"
   ]
  },
  {
   "cell_type": "markdown",
   "metadata": {},
   "source": [
    "Does a table exist?"
   ]
  },
  {
   "cell_type": "code",
   "execution_count": null,
   "metadata": {},
   "outputs": [
    {
     "data": {
      "text/plain": [
       "True"
      ]
     },
     "execution_count": null,
     "metadata": {},
     "output_type": "execute_result"
    }
   ],
   "source": [
    "users.exists()"
   ]
  },
  {
   "cell_type": "markdown",
   "metadata": {},
   "source": [
    "## Manipulating data\n",
    "\n",
    "> Creating, reading, updating, and deleting records in database tables."
   ]
  },
  {
   "cell_type": "markdown",
   "metadata": {},
   "source": [
    "Let's create some dataclass objects representing users and todos."
   ]
  },
  {
   "cell_type": "code",
   "execution_count": null,
   "metadata": {},
   "outputs": [],
   "source": [
    "u0 = User('jph','foo')\n",
    "u1 = User('rlt','bar')\n",
    "t0 = Todo('do it', 'jph')\n",
    "t1 = Todo('build it', 'jph')\n",
    "t2 = Todo('write book', 'rlt')"
   ]
  },
  {
   "cell_type": "markdown",
   "metadata": {},
   "source": [
    "Let's convert these dataclass objects into database records. To do that we insert them into their tables using the aply named `insert` method:"
   ]
  },
  {
   "cell_type": "code",
   "execution_count": null,
   "metadata": {},
   "outputs": [
    {
     "data": {
      "text/plain": [
       "Todo(title='write book', name='rlt', done=False, details='', id=3)"
      ]
     },
     "execution_count": null,
     "metadata": {},
     "output_type": "execute_result"
    }
   ],
   "source": [
    "users.insert(u0)\n",
    "users.insert(u1)\n",
    "todos.insert(t0)\n",
    "todos.insert(t1)\n",
    "todos.insert(t2)"
   ]
  },
  {
   "cell_type": "markdown",
   "metadata": {},
   "source": [
    "Display all the user records."
   ]
  },
  {
   "cell_type": "code",
   "execution_count": null,
   "metadata": {},
   "outputs": [
    {
     "name": "stdout",
     "output_type": "stream",
     "text": [
      "User(name='jph', pwd='foo')\n",
      "User(name='rlt', pwd='bar')\n"
     ]
    }
   ],
   "source": [
    "for user in users():\n",
    "    print(user)"
   ]
  },
  {
   "cell_type": "markdown",
   "metadata": {},
   "source": [
    "Use where statement to filter records, in this case only jph's todos."
   ]
  },
  {
   "cell_type": "code",
   "execution_count": null,
   "metadata": {},
   "outputs": [
    {
     "name": "stdout",
     "output_type": "stream",
     "text": [
      "Todo(title='do it', name='jph', done=False, details='', id=1)\n",
      "Todo(title='build it', name='jph', done=False, details='', id=2)\n"
     ]
    }
   ],
   "source": [
    "for todo in todos(where=\"name = :name\", name=\"jph\"):\n",
    "    print(todo)"
   ]
  },
  {
   "cell_type": "markdown",
   "metadata": {},
   "source": [
    "Look only for those records with the word `it` in it."
   ]
  },
  {
   "cell_type": "code",
   "execution_count": null,
   "metadata": {},
   "outputs": [
    {
     "name": "stdout",
     "output_type": "stream",
     "text": [
      "Todo(title='do it', name='jph', done=False, details='', id=1)\n",
      "Todo(title='build it', name='jph', done=False, details='', id=2)\n"
     ]
    }
   ],
   "source": [
    "for todo in todos(where=\"title LIKE :title\", title=\"%% it%%\"):\n",
    "    print(todo)"
   ]
  },
  {
   "cell_type": "markdown",
   "metadata": {},
   "source": [
    "Fetch a record just by the primary key."
   ]
  },
  {
   "cell_type": "code",
   "execution_count": null,
   "metadata": {},
   "outputs": [
    {
     "data": {
      "text/plain": [
       "User(name='rlt', pwd='bar')"
      ]
     },
     "execution_count": null,
     "metadata": {},
     "output_type": "execute_result"
    }
   ],
   "source": [
    "user = users['rlt']\n",
    "user"
   ]
  },
  {
   "cell_type": "markdown",
   "metadata": {},
   "source": [
    "Change a value in a record."
   ]
  },
  {
   "cell_type": "code",
   "execution_count": null,
   "metadata": {},
   "outputs": [
    {
     "data": {
      "text/plain": [
       "User(name='rlt', pwd='baz')"
      ]
     },
     "execution_count": null,
     "metadata": {},
     "output_type": "execute_result"
    }
   ],
   "source": [
    "user.pwd = 'baz'\n",
    "users.update(user)\n",
    "users['rlt']"
   ]
  }
 ],
 "metadata": {
  "kernelspec": {
   "display_name": "python3",
   "language": "python",
   "name": "python3"
  }
 },
 "nbformat": 4,
 "nbformat_minor": 4
}
