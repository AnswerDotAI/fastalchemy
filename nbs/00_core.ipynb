{
 "cells": [
  {
   "cell_type": "markdown",
   "metadata": {},
   "source": [
    "# core\n",
    "\n",
    "> Fill in a module description here"
   ]
  },
  {
   "cell_type": "code",
   "execution_count": null,
   "metadata": {},
   "outputs": [],
   "source": [
    "#| default_exp core"
   ]
  },
  {
   "cell_type": "code",
   "execution_count": null,
   "metadata": {},
   "outputs": [],
   "source": [
    "#| hide\n",
    "from nbdev.showdoc import *"
   ]
  },
  {
   "cell_type": "markdown",
   "metadata": {},
   "source": [
    "# FastSQL\n",
    "\n",
    "A fun wrapper for SQL."
   ]
  },
  {
   "cell_type": "code",
   "execution_count": null,
   "metadata": {},
   "outputs": [],
   "source": [
    "#| export\n",
    "from sqlalchemy import *\n",
    "from fastcore.utils import *\n",
    "from dataclasses import dataclass, is_dataclass, asdict\n",
    "\n",
    "__all__ = []"
   ]
  },
  {
   "cell_type": "code",
   "execution_count": null,
   "metadata": {},
   "outputs": [],
   "source": [
    "#| export\n",
    "class Database:\n",
    "    def __init__(self, conn_str):\n",
    "        self.engine = create_engine(conn_str)\n",
    "        self.metadata = MetaData()\n",
    "        self.metadata.create_all(self.engine)"
   ]
  },
  {
   "cell_type": "code",
   "execution_count": null,
   "metadata": {},
   "outputs": [
    {
     "data": {
      "text/plain": [
       "<__main__.Database>"
      ]
     },
     "execution_count": null,
     "metadata": {},
     "output_type": "execute_result"
    }
   ],
   "source": [
    "Database(\"sqlite:///:memory:\")"
   ]
  },
  {
   "cell_type": "code",
   "execution_count": null,
   "metadata": {},
   "outputs": [],
   "source": [
    "#| export\n",
    "type_map = {\n",
    "    int: Integer,\n",
    "    str: String,\n",
    "    bool: Boolean\n",
    "}\n",
    "def create_column(name, typ, primary=False):\n",
    "    return Column(name, type_map[typ], primary_key=primary)"
   ]
  },
  {
   "cell_type": "code",
   "execution_count": null,
   "metadata": {},
   "outputs": [
    {
     "data": {
      "text/plain": [
       "Column('id', Integer(), table=None, primary_key=True, nullable=False)"
      ]
     },
     "execution_count": null,
     "metadata": {},
     "output_type": "execute_result"
    }
   ],
   "source": [
    "create_column(\"id\", int, primary=True)"
   ]
  },
  {
   "cell_type": "code",
   "execution_count": null,
   "metadata": {},
   "outputs": [
    {
     "data": {
      "text/plain": [
       "Column('name', String(), table=None)"
      ]
     },
     "execution_count": null,
     "metadata": {},
     "output_type": "execute_result"
    }
   ],
   "source": [
    "create_column(\"name\", str)"
   ]
  },
  {
   "cell_type": "code",
   "execution_count": null,
   "metadata": {},
   "outputs": [],
   "source": [
    "#| export\n",
    "def _create_column_from_dataclass_field(name, field, primary=False):\n",
    "    return create_column(name, field.type, primary)"
   ]
  },
  {
   "cell_type": "code",
   "execution_count": null,
   "metadata": {},
   "outputs": [],
   "source": [
    "#| export\n",
    "@patch\n",
    "def create(self: Database, cls: dataclass, pk: str|None=None):\n",
    "    pkcol = None\n",
    "    cols = {k: v for k,v in cls.__dataclass_fields__.items()}\n",
    "    # Set primary key, popping from cols\n",
    "    if pk is not None: pkcol = _create_column_from_dataclass_field(pk, cols.pop(pk), primary=True)\n",
    "    columns = [_create_column_from_dataclass_field(k, v) for k,v in cols.items()]\n",
    "    # Insert primary key at the beginning\n",
    "    if pkcol is not None: columns.insert(0, pkcol)\n",
    "    return Table(cls.__name__, self.metadata, *columns)"
   ]
  },
  {
   "cell_type": "code",
   "execution_count": null,
   "metadata": {},
   "outputs": [
    {
     "data": {
      "text/plain": [
       "Table('User', MetaData(), Column('name', String(), table=<User>, primary_key=True, nullable=False), Column('pwd', String(), table=<User>), schema=None)"
      ]
     },
     "execution_count": null,
     "metadata": {},
     "output_type": "execute_result"
    }
   ],
   "source": [
    "db = Database(\"sqlite:///:memory:\")\n",
    "@dataclass\n",
    "class User: name:str; pwd:str\n",
    "users = db.create(User, pk='name')\n",
    "users"
   ]
  },
  {
   "cell_type": "code",
   "execution_count": null,
   "metadata": {},
   "outputs": [
    {
     "data": {
      "text/plain": [
       "Table('Todo', MetaData(), Column('id', Integer(), table=<Todo>, primary_key=True, nullable=False), Column('title', String(), table=<Todo>), Column('done', Boolean(), table=<Todo>), Column('name', String(), table=<Todo>), Column('details', String(), table=<Todo>), schema=None)"
      ]
     },
     "execution_count": null,
     "metadata": {},
     "output_type": "execute_result"
    }
   ],
   "source": [
    "@dataclass\n",
    "class Todo: id:int; title:str; done:bool; name:str; details:str\n",
    "todos = db.create(Todo, pk='id')\n",
    "todos"
   ]
  },
  {
   "cell_type": "code",
   "execution_count": null,
   "metadata": {},
   "outputs": [],
   "source": [
    "#| hide\n",
    "import nbdev; nbdev.nbdev_export()"
   ]
  }
 ],
 "metadata": {
  "kernelspec": {
   "display_name": "python3",
   "language": "python",
   "name": "python3"
  }
 },
 "nbformat": 4,
 "nbformat_minor": 4
}
