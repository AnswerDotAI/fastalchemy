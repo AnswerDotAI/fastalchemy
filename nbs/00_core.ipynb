{
 "cells": [
  {
   "cell_type": "markdown",
   "metadata": {},
   "source": [
    "# core\n",
    "\n",
    "> Fill in a module description here"
   ]
  },
  {
   "cell_type": "code",
   "execution_count": null,
   "metadata": {},
   "outputs": [],
   "source": [
    "#| default_exp core"
   ]
  },
  {
   "cell_type": "code",
   "execution_count": null,
   "metadata": {},
   "outputs": [],
   "source": [
    "#| hide\n",
    "from nbdev.showdoc import *"
   ]
  },
  {
   "cell_type": "markdown",
   "metadata": {},
   "source": [
    "# FastSQL\n",
    "\n",
    "A fun wrapper for SQL."
   ]
  },
  {
   "cell_type": "code",
   "execution_count": null,
   "metadata": {},
   "outputs": [],
   "source": [
    "#| export\n",
    "from sqlalchemy import *\n",
    "from fastcore.utils import *\n",
    "\n",
    "__all__ = []"
   ]
  },
  {
   "cell_type": "code",
   "execution_count": null,
   "metadata": {},
   "outputs": [],
   "source": [
    "# metadata_obj = MetaData()\n",
    "# engine = create_engine(\"sqlite:///:memory:\")\n",
    "# metadata_obj.create_all(engine)"
   ]
  },
  {
   "cell_type": "code",
   "execution_count": null,
   "metadata": {},
   "outputs": [],
   "source": [
    "#| export\n",
    "class Database:\n",
    "    def __init__(self, conn_str):\n",
    "        self.engine = create_engine(conn_str)\n",
    "        self.metadata = MetaData()\n",
    "        self.metadata.create_all(self.engine)"
   ]
  },
  {
   "cell_type": "code",
   "execution_count": null,
   "metadata": {},
   "outputs": [
    {
     "data": {
      "text/plain": [
       "<__main__.Database>"
      ]
     },
     "execution_count": null,
     "metadata": {},
     "output_type": "execute_result"
    }
   ],
   "source": [
    "Database(\"sqlite:///:memory:\")"
   ]
  },
  {
   "cell_type": "code",
   "execution_count": null,
   "metadata": {},
   "outputs": [],
   "source": [
    "#| export\n",
    "type_map = {\n",
    "    int: Integer,\n",
    "    str: String,\n",
    "    float: Float,\n",
    "    bool: Boolean\n",
    "}\n",
    "def create_column(name, typ, primary=False):\n",
    "    return Column(name, type_map[typ], primary_key=primary)"
   ]
  },
  {
   "cell_type": "code",
   "execution_count": null,
   "metadata": {},
   "outputs": [
    {
     "data": {
      "text/plain": [
       "Column('id', Integer(), table=None, primary_key=True, nullable=False)"
      ]
     },
     "execution_count": null,
     "metadata": {},
     "output_type": "execute_result"
    }
   ],
   "source": [
    "create_column(\"id\", int, primary=True)"
   ]
  },
  {
   "cell_type": "code",
   "execution_count": null,
   "metadata": {},
   "outputs": [
    {
     "data": {
      "text/plain": [
       "Column('namme', String(), table=None)"
      ]
     },
     "execution_count": null,
     "metadata": {},
     "output_type": "execute_result"
    }
   ],
   "source": [
    "create_column(\"namme\", str)"
   ]
  },
  {
   "cell_type": "code",
   "execution_count": null,
   "metadata": {},
   "outputs": [],
   "source": [
    "#| export\n",
    "@patch\n",
    "def create_table(self: Database, tname, pk: str|None=None, **cols):\n",
    "    pkcol = None\n",
    "    # Set primary key, popping from cols\n",
    "    if pk is not None: pkcol = create_column(pk, cols.pop(pk), primary=True)\n",
    "    columns = [create_column(name, typ) for name, typ in cols.items()]\n",
    "    # Insert primary key at the beginning\n",
    "    if pkcol is not None: columns.insert(0, pkcol)\n",
    "    return Table(tname, self.metadata, *columns)"
   ]
  },
  {
   "cell_type": "code",
   "execution_count": null,
   "metadata": {},
   "outputs": [],
   "source": [
    "db = Database(\"sqlite:///:memory:\")\n",
    "users = db.create_table(\"users\", id=int, name=str, age=int, pk='id')\n",
    "users\n",
    "assert 'users' in db.metadata.tables\n",
    "assert db.metadata.tables['users'] == users"
   ]
  },
  {
   "cell_type": "code",
   "execution_count": null,
   "metadata": {},
   "outputs": [],
   "source": [
    "#| hide\n",
    "import nbdev; nbdev.nbdev_export()"
   ]
  }
 ],
 "metadata": {
  "kernelspec": {
   "display_name": "python3",
   "language": "python",
   "name": "python3"
  }
 },
 "nbformat": 4,
 "nbformat_minor": 4
}
