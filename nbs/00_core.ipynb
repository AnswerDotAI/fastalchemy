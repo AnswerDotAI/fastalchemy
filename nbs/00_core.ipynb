{
 "cells": [
  {
   "cell_type": "markdown",
   "metadata": {},
   "source": [
    "# core\n",
    "\n",
    "> Fill in a module description here"
   ]
  },
  {
   "cell_type": "code",
   "execution_count": null,
   "metadata": {},
   "outputs": [],
   "source": [
    "#| default_exp core"
   ]
  },
  {
   "cell_type": "code",
   "execution_count": null,
   "metadata": {},
   "outputs": [],
   "source": [
    "#| hide\n",
    "from nbdev.showdoc import *"
   ]
  },
  {
   "cell_type": "markdown",
   "metadata": {},
   "source": [
    "# FastSQL\n",
    "\n",
    "A fun wrapper for SQL."
   ]
  },
  {
   "cell_type": "code",
   "execution_count": null,
   "metadata": {},
   "outputs": [],
   "source": [
    "#| export\n",
    "from sqlalchemy import MetaData, Table, Column, Integer, String, ForeignKey, create_engine\n",
    "from fastcore.utils import *\n",
    "from dataclasses import dataclass, is_dataclass, asdict\n",
    "\n",
    "__all__ = []"
   ]
  },
  {
   "cell_type": "code",
   "execution_count": null,
   "metadata": {},
   "outputs": [],
   "source": [
    "#| export\n",
    "class Database:\n",
    "    def __init__(self, conn_str):\n",
    "        self.engine = create_engine(conn_str)\n",
    "        self.metadata = MetaData()\n",
    "        self.metadata.create_all(self.engine)"
   ]
  },
  {
   "cell_type": "code",
   "execution_count": null,
   "metadata": {},
   "outputs": [
    {
     "data": {
      "text/plain": [
       "<__main__.Database>"
      ]
     },
     "execution_count": null,
     "metadata": {},
     "output_type": "execute_result"
    }
   ],
   "source": [
    "Database(\"sqlite:///:memory:\")"
   ]
  },
  {
   "cell_type": "code",
   "execution_count": null,
   "metadata": {},
   "outputs": [],
   "source": [
    "#| export\n",
    "from typing import Any\n",
    "\n",
    "\n",
    "class DBTable:\n",
    "    def __init__(self, table: Table):\n",
    "        self.table = table\n",
    "\n",
    "    def __getitem__(self, name: str) -> Any:\n",
    "        return self.table.__getattribute__(name)\n",
    "    \n",
    "    def __str__(self):\n",
    "        return self.table.name\n",
    "    \n",
    "    def __repr__(self) -> str:\n",
    "        return self.table.name"
   ]
  },
  {
   "cell_type": "code",
   "execution_count": null,
   "metadata": {},
   "outputs": [],
   "source": [
    "#| export\n",
    "type_map = {\n",
    "    int: Integer,\n",
    "    str: String,\n",
    "    bool: Boolean\n",
    "}\n",
    "def create_column(name, typ, primary=False):\n",
    "    return Column(name, type_map[typ], primary_key=primary)"
   ]
  },
  {
   "cell_type": "code",
   "execution_count": null,
   "metadata": {},
   "outputs": [
    {
     "data": {
      "text/plain": [
       "Column('id', Integer(), table=None, primary_key=True, nullable=False)"
      ]
     },
     "execution_count": null,
     "metadata": {},
     "output_type": "execute_result"
    }
   ],
   "source": [
    "create_column(\"id\", int, primary=True)"
   ]
  },
  {
   "cell_type": "code",
   "execution_count": null,
   "metadata": {},
   "outputs": [
    {
     "data": {
      "text/plain": [
       "Column('name', String(), table=None)"
      ]
     },
     "execution_count": null,
     "metadata": {},
     "output_type": "execute_result"
    }
   ],
   "source": [
    "create_column(\"name\", str)"
   ]
  },
  {
   "cell_type": "code",
   "execution_count": null,
   "metadata": {},
   "outputs": [],
   "source": [
    "#| export\n",
    "def _create_column_from_dataclass_field(name, field, primary=False):\n",
    "    return create_column(name, field.type, primary)"
   ]
  },
  {
   "cell_type": "code",
   "execution_count": null,
   "metadata": {},
   "outputs": [],
   "source": [
    "#| export\n",
    "@patch\n",
    "def create(self: Database, cls: dataclass, pk: str|None=None):\n",
    "    pkcol = None\n",
    "    cols = {k: v for k,v in cls.__dataclass_fields__.items()}\n",
    "    # Set primary key, popping from cols\n",
    "    if pk is not None: pkcol = _create_column_from_dataclass_field(pk, cols.pop(pk), primary=True)\n",
    "    columns = [_create_column_from_dataclass_field(k, v) for k,v in cols.items()]\n",
    "    # Insert primary key at the beginning\n",
    "    if pkcol is not None: columns.insert(0, pkcol)\n",
    "    # return Table(cls.__name__, self.metadata, *columns)\n",
    "    return DBTable(Table(cls.__name__, self.metadata, *columns))"
   ]
  },
  {
   "cell_type": "code",
   "execution_count": null,
   "metadata": {},
   "outputs": [
    {
     "name": "stdout",
     "output_type": "stream",
     "text": [
      "User\n"
     ]
    },
    {
     "data": {
      "text/plain": [
       "User"
      ]
     },
     "execution_count": null,
     "metadata": {},
     "output_type": "execute_result"
    }
   ],
   "source": [
    "db = Database(\"sqlite:///:memory:\")\n",
    "@dataclass\n",
    "class User: name:str; pwd:str\n",
    "users = db.create(User, pk='name')\n",
    "print(users)\n",
    "users"
   ]
  },
  {
   "cell_type": "code",
   "execution_count": null,
   "metadata": {},
   "outputs": [
    {
     "data": {
      "text/plain": [
       "Todo"
      ]
     },
     "execution_count": null,
     "metadata": {},
     "output_type": "execute_result"
    }
   ],
   "source": [
    "@dataclass\n",
    "class Todo: id:int; title:str; done:bool; name:str; details:str\n",
    "todos = db.create(Todo, pk='id')\n",
    "todos"
   ]
  },
  {
   "cell_type": "code",
   "execution_count": null,
   "metadata": {},
   "outputs": [],
   "source": [
    "# #| export\n",
    "# @patch\n",
    "# def insert(self: Table, **kwargs):\n",
    "#     return self.insert().values(**kwargs)"
   ]
  },
  {
   "cell_type": "code",
   "execution_count": null,
   "metadata": {},
   "outputs": [],
   "source": [
    "#| hide\n",
    "import nbdev; nbdev.nbdev_export()"
   ]
  }
 ],
 "metadata": {
  "kernelspec": {
   "display_name": "python3",
   "language": "python",
   "name": "python3"
  }
 },
 "nbformat": 4,
 "nbformat_minor": 4
}
