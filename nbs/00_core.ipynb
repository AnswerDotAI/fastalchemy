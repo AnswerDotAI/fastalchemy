{
 "cells": [
  {
   "cell_type": "code",
   "execution_count": null,
   "id": "daf89925",
   "metadata": {},
   "outputs": [],
   "source": [
    "#| default_exp core"
   ]
  },
  {
   "cell_type": "markdown",
   "id": "90e0d66c",
   "metadata": {},
   "source": [
    "# FastSQL\n",
    "\n",
    "- A MiniDataAPI spec implementation for SQLAlchemy V2"
   ]
  },
  {
   "cell_type": "code",
   "execution_count": null,
   "id": "b71611ea",
   "metadata": {},
   "outputs": [],
   "source": [
    "from aimagic import create_magic,models"
   ]
  },
  {
   "cell_type": "code",
   "execution_count": null,
   "id": "0ccf76fd",
   "metadata": {},
   "outputs": [],
   "source": [
    "create_magic(models[0]);"
   ]
  },
  {
   "cell_type": "code",
   "execution_count": null,
   "id": "ab5f870a",
   "metadata": {},
   "outputs": [],
   "source": [
    "%ai reset"
   ]
  },
  {
   "cell_type": "code",
   "execution_count": null,
   "id": "1e5e8057",
   "metadata": {},
   "outputs": [],
   "source": [
    "#| export\n",
    "from dataclasses import dataclass,is_dataclass,asdict,MISSING\n",
    "import sqlalchemy as sa\n",
    "from sqlalchemy.orm import Session\n",
    "from fastcore.utils import *"
   ]
  },
  {
   "cell_type": "markdown",
   "id": "34f72847",
   "metadata": {},
   "source": [
    "We create a `Database` class and a `DBTable` class (which is returned by `Database.create`), using sqlalchemy v2. These classes will allow us to directly work with dataclasses such as these:"
   ]
  },
  {
   "cell_type": "code",
   "execution_count": null,
   "id": "fa3abd3c",
   "metadata": {},
   "outputs": [],
   "source": [
    "@dataclass\n",
    "class User: name:str; pwd:str\n",
    "@dataclass\n",
    "class Todo: title:str; name:str; done:bool=False; details:str=''; id:int=None"
   ]
  },
  {
   "cell_type": "code",
   "execution_count": null,
   "id": "2258cd0a",
   "metadata": {},
   "outputs": [],
   "source": [
    "#| export\n",
    "_type_map = {int: sa.Integer, str: sa.String, bool: sa.Boolean}\n",
    "def _column(name, typ, primary=False):\n",
    "    return sa.Column(name, _type_map[typ], primary_key=primary)"
   ]
  },
  {
   "cell_type": "code",
   "execution_count": null,
   "id": "b68f79f2",
   "metadata": {},
   "outputs": [],
   "source": [
    "#| export\n",
    "class Database:\n",
    "    \"A connection to a SQLAlchemy database\"\n",
    "    def __init__(self, conn_str):\n",
    "        self.conn_str = conn_str\n",
    "        self.engine = sa.create_engine(conn_str)\n",
    "        self.meta = sa.MetaData()\n",
    "\n",
    "    def __repr__(self): return f\"Database({self.conn_str})\"\n",
    "    \n",
    "    @property\n",
    "    def conn(self): return self.engine.connect()"
   ]
  },
  {
   "cell_type": "code",
   "execution_count": null,
   "id": "a91218d0",
   "metadata": {},
   "outputs": [],
   "source": [
    "db = Database(\"sqlite:///:memory:\")"
   ]
  },
  {
   "cell_type": "code",
   "execution_count": null,
   "id": "905cfcef",
   "metadata": {},
   "outputs": [],
   "source": [
    "#| export\n",
    "class DBTable:\n",
    "    \"A connection to a SQLAlchemy table, created if needed\"\n",
    "    def __init__(self, table: sa.Table, database: Database, cls):\n",
    "        self.table,self.db,self.cls = table,database,cls\n",
    "        table.create(self.db.engine, checkfirst=True)\n",
    "\n",
    "    def __repr__(self) -> str: return self.table.name\n",
    "    \n",
    "    @property\n",
    "    def conn(self): return self.db.conn"
   ]
  },
  {
   "cell_type": "code",
   "execution_count": null,
   "id": "78b0e411",
   "metadata": {},
   "outputs": [],
   "source": [
    "#| export\n",
    "@patch\n",
    "def create(self:Database, cls, pk:str|None=None):\n",
    "    \"Get a table object, creating in DB if needed\"\n",
    "    cols = {k:v for k,v in cls.__dataclass_fields__.items()}\n",
    "    columns = [] if pk is None else [_column(pk, cols.pop(pk).type, primary=True)]\n",
    "    columns += [_column(k, v.type) for k,v in cols.items()]\n",
    "    tbl = sa.Table(cls.__name__, self.meta, *columns)\n",
    "    return DBTable(tbl, self, cls)"
   ]
  },
  {
   "cell_type": "code",
   "execution_count": null,
   "id": "0b94139a",
   "metadata": {},
   "outputs": [],
   "source": [
    "users = db.create(User, pk='name')\n",
    "todos = db.create(Todo, pk='id')"
   ]
  },
  {
   "cell_type": "code",
   "execution_count": null,
   "id": "7f00cf84",
   "metadata": {},
   "outputs": [],
   "source": [
    "#| export\n",
    "@patch\n",
    "def print_schema(self:Database):\n",
    "    \"Show all tables and columns\"\n",
    "    inspector = sa.inspect(self.engine)\n",
    "    for table_name in inspector.get_table_names():\n",
    "        print(f\"Table: {table_name}\")\n",
    "        pk_cols = inspector.get_pk_constraint(table_name)['constrained_columns']\n",
    "        for column in inspector.get_columns(table_name):\n",
    "            pk_marker = '*' if column['name'] in pk_cols else ''\n",
    "            print(f\"  - {pk_marker}{column['name']}: {column['type']}\")"
   ]
  },
  {
   "cell_type": "code",
   "execution_count": null,
   "id": "e12cfd80",
   "metadata": {},
   "outputs": [
    {
     "name": "stdout",
     "output_type": "stream",
     "text": [
      "Table: Todo\n",
      "  - *id: INTEGER\n",
      "  - title: VARCHAR\n",
      "  - name: VARCHAR\n",
      "  - done: BOOLEAN\n",
      "  - details: VARCHAR\n",
      "Table: User\n",
      "  - *name: VARCHAR\n",
      "  - pwd: VARCHAR\n"
     ]
    }
   ],
   "source": [
    "db.print_schema()"
   ]
  },
  {
   "cell_type": "code",
   "execution_count": null,
   "id": "04e09e2b",
   "metadata": {},
   "outputs": [],
   "source": [
    "#| export\n",
    "@patch\n",
    "def exists(self:DBTable):\n",
    "    \"Check if this table exists in the DB\"\n",
    "    return sa.inspect(self.db.engine).has_table(self.table.name)"
   ]
  },
  {
   "cell_type": "code",
   "execution_count": null,
   "id": "17c244d3",
   "metadata": {},
   "outputs": [
    {
     "data": {
      "text/plain": [
       "True"
      ]
     },
     "execution_count": null,
     "metadata": {},
     "output_type": "execute_result"
    }
   ],
   "source": [
    "users.exists()"
   ]
  },
  {
   "cell_type": "code",
   "execution_count": null,
   "id": "e1811100",
   "metadata": {},
   "outputs": [],
   "source": [
    "u0 = User('jph','foo')\n",
    "u1 = User('rlt','bar')\n",
    "t0 = Todo('do it', 'jph')"
   ]
  },
  {
   "cell_type": "code",
   "execution_count": null,
   "id": "dccb7273",
   "metadata": {},
   "outputs": [],
   "source": [
    "#| export\n",
    "def _wanted(obj): return {k:v for k,v in asdict(obj).items() if v not in (None,MISSING)}"
   ]
  },
  {
   "cell_type": "code",
   "execution_count": null,
   "id": "96fed40d",
   "metadata": {},
   "outputs": [],
   "source": [
    "#| export\n",
    "@patch\n",
    "def insert(self:DBTable, obj):\n",
    "    \"Insert an object into this table, and return it\"\n",
    "    with self.conn as conn:\n",
    "        result = conn.execute(sa.insert(self.table).values(**_wanted(obj)).returning(*self.table.columns))\n",
    "        row = result.one()  # Consume the result set\n",
    "        conn.commit()\n",
    "        return self.cls(**row._asdict())"
   ]
  },
  {
   "cell_type": "code",
   "execution_count": null,
   "id": "afca641f",
   "metadata": {},
   "outputs": [
    {
     "data": {
      "text/plain": [
       "User(name='jph', pwd='foo')"
      ]
     },
     "execution_count": null,
     "metadata": {},
     "output_type": "execute_result"
    }
   ],
   "source": [
    "u = users.insert(u0)\n",
    "assert u.name=='jph'\n",
    "users.insert(u1)\n",
    "u"
   ]
  },
  {
   "cell_type": "code",
   "execution_count": null,
   "id": "9e893883",
   "metadata": {},
   "outputs": [
    {
     "data": {
      "text/plain": [
       "Todo(title='do it', name='jph', done=False, details='', id=1)"
      ]
     },
     "execution_count": null,
     "metadata": {},
     "output_type": "execute_result"
    }
   ],
   "source": [
    "t = todos.insert(t0)\n",
    "assert t.id\n",
    "t"
   ]
  },
  {
   "cell_type": "code",
   "execution_count": null,
   "id": "6191d1d9",
   "metadata": {},
   "outputs": [],
   "source": [
    "#| export\n",
    "@patch\n",
    "def __call__(self:DBTable, where:str|None=None, where_args:Iterable|dict|None=None,\n",
    "             order_by:str|None=None, limit:int|None=None, offset:int|None=None, **kw):\n",
    "    \"Query this table\"\n",
    "    query = sa.select(self.table)\n",
    "    if where_args: kw = {**kw, **where_args}\n",
    "    if kw: query = query.where(sa.text(where).bindparams(**kw))\n",
    "    if order_by: query = query.order_by(sa.text(order_by))\n",
    "    if limit is not None: query = query.limit(limit)\n",
    "    if offset is not None: query = query.offset(offset)\n",
    "    with self.conn as conn:\n",
    "        rows = conn.execute(query).all()\n",
    "        return [self.cls(**row._asdict()) for row in rows]"
   ]
  },
  {
   "cell_type": "code",
   "execution_count": null,
   "id": "fff626e0",
   "metadata": {},
   "outputs": [
    {
     "data": {
      "text/plain": [
       "[User(name='jph', pwd='foo'), User(name='rlt', pwd='bar')]"
      ]
     },
     "execution_count": null,
     "metadata": {},
     "output_type": "execute_result"
    }
   ],
   "source": [
    "assert users()==[u0,u1]\n",
    "users()"
   ]
  },
  {
   "cell_type": "code",
   "execution_count": null,
   "id": "ef1bb566",
   "metadata": {},
   "outputs": [
    {
     "data": {
      "text/plain": [
       "[User(name='rlt', pwd='bar')]"
      ]
     },
     "execution_count": null,
     "metadata": {},
     "output_type": "execute_result"
    }
   ],
   "source": [
    "users(where=\"pwd LIKE :pwd\", pwd=\"b%\")"
   ]
  },
  {
   "cell_type": "code",
   "execution_count": null,
   "id": "8072e3bb",
   "metadata": {},
   "outputs": [
    {
     "data": {
      "text/plain": [
       "[Todo(title='do it', name='jph', done=False, details='', id=1)]"
      ]
     },
     "execution_count": null,
     "metadata": {},
     "output_type": "execute_result"
    }
   ],
   "source": [
    "assert todos()==[t]\n",
    "todos()"
   ]
  },
  {
   "cell_type": "code",
   "execution_count": null,
   "id": "38f4dc69",
   "metadata": {},
   "outputs": [],
   "source": [
    "#| export\n",
    "@patch\n",
    "def _pk_where(self:DBTable, meth,key):\n",
    "    if not isinstance(key,tuple): key = (key,)\n",
    "    pkv = zip(self.table.primary_key.columns, key)\n",
    "    cond = sa.and_(*[col==val for col,val in pkv])\n",
    "    return getattr(self.table,meth)().where(cond)"
   ]
  },
  {
   "cell_type": "code",
   "execution_count": null,
   "id": "e4e2961f",
   "metadata": {},
   "outputs": [],
   "source": [
    "#| export\n",
    "@patch\n",
    "def __getitem__(self:DBTable, key):\n",
    "    \"Get item with PK `key`\"\n",
    "    with self.conn as conn:\n",
    "        qry = self._pk_where('select', key)\n",
    "        result = conn.execute(qry).first()\n",
    "    return self.cls(**result._asdict()) if result else None"
   ]
  },
  {
   "cell_type": "code",
   "execution_count": null,
   "id": "7cf2e9eb",
   "metadata": {},
   "outputs": [
    {
     "data": {
      "text/plain": [
       "User(name='jph', pwd='foo')"
      ]
     },
     "execution_count": null,
     "metadata": {},
     "output_type": "execute_result"
    }
   ],
   "source": [
    "assert users['jph']==u0\n",
    "users['jph']"
   ]
  },
  {
   "cell_type": "code",
   "execution_count": null,
   "id": "c119a789",
   "metadata": {},
   "outputs": [],
   "source": [
    "#| export\n",
    "@patch\n",
    "def update(self:DBTable, obj):\n",
    "    d = _wanted(obj)\n",
    "    pks = tuple(d[k.name] for k in self.table.primary_key)\n",
    "    with self.conn as conn:\n",
    "        qry = self._pk_where('update', pks).values(**d).returning(*self.table.columns)\n",
    "        result = conn.execute(qry)\n",
    "        row = result.one()\n",
    "        conn.commit()\n",
    "        return self.cls(**row._asdict())"
   ]
  },
  {
   "cell_type": "code",
   "execution_count": null,
   "id": "b2c93d04",
   "metadata": {},
   "outputs": [
    {
     "data": {
      "text/plain": [
       "[User(name='jph', pwd='new'), User(name='rlt', pwd='bar')]"
      ]
     },
     "execution_count": null,
     "metadata": {},
     "output_type": "execute_result"
    }
   ],
   "source": [
    "u.pwd = 'new'\n",
    "users.update(u)\n",
    "users()"
   ]
  },
  {
   "cell_type": "code",
   "execution_count": null,
   "id": "7ab4b0fb",
   "metadata": {},
   "outputs": [],
   "source": [
    "#| export\n",
    "@patch\n",
    "def delete(self:DBTable, key):\n",
    "    \"Delete item with PK `key` and return count deleted\"\n",
    "    with self.conn as conn:\n",
    "        result = conn.execute(self._pk_where('delete', key))\n",
    "        conn.commit()\n",
    "        return result.rowcount"
   ]
  },
  {
   "cell_type": "code",
   "execution_count": null,
   "id": "c60f59de",
   "metadata": {},
   "outputs": [],
   "source": [
    "assert users.delete('jph')\n",
    "assert not users['jph']"
   ]
  },
  {
   "cell_type": "code",
   "execution_count": null,
   "id": "aaf52afe",
   "metadata": {},
   "outputs": [],
   "source": []
  }
 ],
 "metadata": {
  "kernelspec": {
   "display_name": "python3",
   "language": "python",
   "name": "python3"
  }
 },
 "nbformat": 4,
 "nbformat_minor": 5
}
